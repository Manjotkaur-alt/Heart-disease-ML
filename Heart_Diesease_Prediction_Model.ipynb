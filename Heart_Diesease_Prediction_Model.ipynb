{
 "cells": [
  {
   "cell_type": "markdown",
   "metadata": {},
   "source": [
    "Problem Statement:"
   ]
  },
  {
   "cell_type": "markdown",
   "metadata": {},
   "source": [
    "To build a machine learning model that can predict wheather a person has heart disease or not."
   ]
  },
  {
   "cell_type": "raw",
   "metadata": {},
   "source": [
    "Dataset Used : heart_disease_csv_dataset\n",
    "\n",
    "Attributes Used:\n",
    "\n",
    "    1.age: age in years\n",
    "    2.sex:\n",
    "    --male=1\n",
    "    --female=0\n",
    "    3.chest_pain: \n",
    "    -- Value 1: typical angina\n",
    "    -- Value 2: atypical angina\n",
    "    -- Value 3: non-anginal pain\n",
    "    -- Value 4: asymptomatic\n",
    "    4.resting_blood_pressure\n",
    "    5.cholestrol\n",
    "    6.fasting_blood_sugar\n",
    "    --1 = true\n",
    "    --0 = false\n",
    "    7.resting_ECG\n",
    "    -- Value 0: normal\n",
    "    -- Value 1: having ST-T wave abnormality (T wave inversions and/or ST elevation or depression of > 0.05 mV)\n",
    "    -- Value 2: showing probable or definite left ventricular hypertrophy by Estes' criteria\n",
    "    8.max_heart_rate\n",
    "    9.exercise_induced_angina\n",
    "    --1 = yes\n",
    "    --0 = no\n",
    "    10.depression_by_exercise\n",
    "    11.slope_of_exercise\n",
    "    -- Value 1: upsloping\n",
    "    -- Value 2: flat\n",
    "    -- Value 3: downsloping\n",
    "    12.number_of_vessels\n",
    "    -- (0-3) colored by flourosopy\n",
    "    13.thal\n",
    "    --3 = normal\n",
    "    --6 = fixed defect\n",
    "    --7 = reversable defect\n",
    "    14.result(predicted attribute)\n",
    "    --1= deseased\n",
    "    --0=normal/not-deseased\n",
    "\n"
   ]
  },
  {
   "cell_type": "markdown",
   "metadata": {},
   "source": [
    "Importing all the necessary libraries:\n"
   ]
  },
  {
   "cell_type": "code",
   "execution_count": 1,
   "metadata": {},
   "outputs": [],
   "source": [
    "import pandas as pd\n",
    "import numpy as np\n",
    "import matplotlib.pyplot as plt\n",
    "%matplotlib inline\n",
    "import warnings\n",
    "warnings.filterwarnings('ignore')\n",
    "import seaborn as sns\n",
    "from sklearn.preprocessing import Imputer"
   ]
  },
  {
   "cell_type": "markdown",
   "metadata": {},
   "source": [
    "Preparing the Data:\n",
    "    \n",
    "    1.Query the Data:\n",
    "        "
   ]
  },
  {
   "cell_type": "code",
   "execution_count": 2,
   "metadata": {},
   "outputs": [],
   "source": [
    "dataframe=pd.read_csv(\"file:///C:/Users/Tarun/Downloads/heart_diesease_csv_dataset.data\",\n",
    "                      header=None,\n",
    "                      names=['age','sex','chest_pain','resting_blood_pressure',\n",
    "                      'cholestrol','fasting_blood_sugar','resting_ECG','max_heart_rate',\n",
    "                      'exercise_induced_angina','depression_by_exercise',\n",
    "                      'slope_of_exercise','number_of_vessels','thal','result'])"
   ]
  },
  {
   "cell_type": "code",
   "execution_count": 3,
   "metadata": {},
   "outputs": [
    {
     "name": "stdout",
     "output_type": "stream",
     "text": [
      "<class 'pandas.core.frame.DataFrame'>\n",
      "RangeIndex: 303 entries, 0 to 302\n",
      "Data columns (total 14 columns):\n",
      "age                        303 non-null float64\n",
      "sex                        303 non-null float64\n",
      "chest_pain                 303 non-null float64\n",
      "resting_blood_pressure     303 non-null float64\n",
      "cholestrol                 303 non-null float64\n",
      "fasting_blood_sugar        303 non-null float64\n",
      "resting_ECG                303 non-null float64\n",
      "max_heart_rate             303 non-null float64\n",
      "exercise_induced_angina    303 non-null float64\n",
      "depression_by_exercise     303 non-null float64\n",
      "slope_of_exercise          303 non-null float64\n",
      "number_of_vessels          303 non-null object\n",
      "thal                       303 non-null object\n",
      "result                     303 non-null int64\n",
      "dtypes: float64(11), int64(1), object(2)\n",
      "memory usage: 33.3+ KB\n"
     ]
    }
   ],
   "source": [
    "dataframe.info()"
   ]
  },
  {
   "cell_type": "code",
   "execution_count": 4,
   "metadata": {},
   "outputs": [
    {
     "data": {
      "text/html": [
       "<div>\n",
       "<style scoped>\n",
       "    .dataframe tbody tr th:only-of-type {\n",
       "        vertical-align: middle;\n",
       "    }\n",
       "\n",
       "    .dataframe tbody tr th {\n",
       "        vertical-align: top;\n",
       "    }\n",
       "\n",
       "    .dataframe thead th {\n",
       "        text-align: right;\n",
       "    }\n",
       "</style>\n",
       "<table border=\"1\" class=\"dataframe\">\n",
       "  <thead>\n",
       "    <tr style=\"text-align: right;\">\n",
       "      <th></th>\n",
       "      <th>age</th>\n",
       "      <th>sex</th>\n",
       "      <th>chest_pain</th>\n",
       "      <th>resting_blood_pressure</th>\n",
       "      <th>cholestrol</th>\n",
       "      <th>fasting_blood_sugar</th>\n",
       "      <th>resting_ECG</th>\n",
       "      <th>max_heart_rate</th>\n",
       "      <th>exercise_induced_angina</th>\n",
       "      <th>depression_by_exercise</th>\n",
       "      <th>slope_of_exercise</th>\n",
       "      <th>result</th>\n",
       "    </tr>\n",
       "  </thead>\n",
       "  <tbody>\n",
       "    <tr>\n",
       "      <td>count</td>\n",
       "      <td>303.000000</td>\n",
       "      <td>303.000000</td>\n",
       "      <td>303.000000</td>\n",
       "      <td>303.000000</td>\n",
       "      <td>303.000000</td>\n",
       "      <td>303.000000</td>\n",
       "      <td>303.000000</td>\n",
       "      <td>303.000000</td>\n",
       "      <td>303.000000</td>\n",
       "      <td>303.000000</td>\n",
       "      <td>303.000000</td>\n",
       "      <td>303.000000</td>\n",
       "    </tr>\n",
       "    <tr>\n",
       "      <td>mean</td>\n",
       "      <td>54.438944</td>\n",
       "      <td>0.679868</td>\n",
       "      <td>3.158416</td>\n",
       "      <td>131.689769</td>\n",
       "      <td>246.693069</td>\n",
       "      <td>0.148515</td>\n",
       "      <td>0.990099</td>\n",
       "      <td>149.607261</td>\n",
       "      <td>0.326733</td>\n",
       "      <td>1.039604</td>\n",
       "      <td>1.600660</td>\n",
       "      <td>0.937294</td>\n",
       "    </tr>\n",
       "    <tr>\n",
       "      <td>std</td>\n",
       "      <td>9.038662</td>\n",
       "      <td>0.467299</td>\n",
       "      <td>0.960126</td>\n",
       "      <td>17.599748</td>\n",
       "      <td>51.776918</td>\n",
       "      <td>0.356198</td>\n",
       "      <td>0.994971</td>\n",
       "      <td>22.875003</td>\n",
       "      <td>0.469794</td>\n",
       "      <td>1.161075</td>\n",
       "      <td>0.616226</td>\n",
       "      <td>1.228536</td>\n",
       "    </tr>\n",
       "    <tr>\n",
       "      <td>min</td>\n",
       "      <td>29.000000</td>\n",
       "      <td>0.000000</td>\n",
       "      <td>1.000000</td>\n",
       "      <td>94.000000</td>\n",
       "      <td>126.000000</td>\n",
       "      <td>0.000000</td>\n",
       "      <td>0.000000</td>\n",
       "      <td>71.000000</td>\n",
       "      <td>0.000000</td>\n",
       "      <td>0.000000</td>\n",
       "      <td>1.000000</td>\n",
       "      <td>0.000000</td>\n",
       "    </tr>\n",
       "    <tr>\n",
       "      <td>25%</td>\n",
       "      <td>48.000000</td>\n",
       "      <td>0.000000</td>\n",
       "      <td>3.000000</td>\n",
       "      <td>120.000000</td>\n",
       "      <td>211.000000</td>\n",
       "      <td>0.000000</td>\n",
       "      <td>0.000000</td>\n",
       "      <td>133.500000</td>\n",
       "      <td>0.000000</td>\n",
       "      <td>0.000000</td>\n",
       "      <td>1.000000</td>\n",
       "      <td>0.000000</td>\n",
       "    </tr>\n",
       "    <tr>\n",
       "      <td>50%</td>\n",
       "      <td>56.000000</td>\n",
       "      <td>1.000000</td>\n",
       "      <td>3.000000</td>\n",
       "      <td>130.000000</td>\n",
       "      <td>241.000000</td>\n",
       "      <td>0.000000</td>\n",
       "      <td>1.000000</td>\n",
       "      <td>153.000000</td>\n",
       "      <td>0.000000</td>\n",
       "      <td>0.800000</td>\n",
       "      <td>2.000000</td>\n",
       "      <td>0.000000</td>\n",
       "    </tr>\n",
       "    <tr>\n",
       "      <td>75%</td>\n",
       "      <td>61.000000</td>\n",
       "      <td>1.000000</td>\n",
       "      <td>4.000000</td>\n",
       "      <td>140.000000</td>\n",
       "      <td>275.000000</td>\n",
       "      <td>0.000000</td>\n",
       "      <td>2.000000</td>\n",
       "      <td>166.000000</td>\n",
       "      <td>1.000000</td>\n",
       "      <td>1.600000</td>\n",
       "      <td>2.000000</td>\n",
       "      <td>2.000000</td>\n",
       "    </tr>\n",
       "    <tr>\n",
       "      <td>max</td>\n",
       "      <td>77.000000</td>\n",
       "      <td>1.000000</td>\n",
       "      <td>4.000000</td>\n",
       "      <td>200.000000</td>\n",
       "      <td>564.000000</td>\n",
       "      <td>1.000000</td>\n",
       "      <td>2.000000</td>\n",
       "      <td>202.000000</td>\n",
       "      <td>1.000000</td>\n",
       "      <td>6.200000</td>\n",
       "      <td>3.000000</td>\n",
       "      <td>4.000000</td>\n",
       "    </tr>\n",
       "  </tbody>\n",
       "</table>\n",
       "</div>"
      ],
      "text/plain": [
       "              age         sex  chest_pain  resting_blood_pressure  cholestrol  \\\n",
       "count  303.000000  303.000000  303.000000              303.000000  303.000000   \n",
       "mean    54.438944    0.679868    3.158416              131.689769  246.693069   \n",
       "std      9.038662    0.467299    0.960126               17.599748   51.776918   \n",
       "min     29.000000    0.000000    1.000000               94.000000  126.000000   \n",
       "25%     48.000000    0.000000    3.000000              120.000000  211.000000   \n",
       "50%     56.000000    1.000000    3.000000              130.000000  241.000000   \n",
       "75%     61.000000    1.000000    4.000000              140.000000  275.000000   \n",
       "max     77.000000    1.000000    4.000000              200.000000  564.000000   \n",
       "\n",
       "       fasting_blood_sugar  resting_ECG  max_heart_rate  \\\n",
       "count           303.000000   303.000000      303.000000   \n",
       "mean              0.148515     0.990099      149.607261   \n",
       "std               0.356198     0.994971       22.875003   \n",
       "min               0.000000     0.000000       71.000000   \n",
       "25%               0.000000     0.000000      133.500000   \n",
       "50%               0.000000     1.000000      153.000000   \n",
       "75%               0.000000     2.000000      166.000000   \n",
       "max               1.000000     2.000000      202.000000   \n",
       "\n",
       "       exercise_induced_angina  depression_by_exercise  slope_of_exercise  \\\n",
       "count               303.000000              303.000000         303.000000   \n",
       "mean                  0.326733                1.039604           1.600660   \n",
       "std                   0.469794                1.161075           0.616226   \n",
       "min                   0.000000                0.000000           1.000000   \n",
       "25%                   0.000000                0.000000           1.000000   \n",
       "50%                   0.000000                0.800000           2.000000   \n",
       "75%                   1.000000                1.600000           2.000000   \n",
       "max                   1.000000                6.200000           3.000000   \n",
       "\n",
       "           result  \n",
       "count  303.000000  \n",
       "mean     0.937294  \n",
       "std      1.228536  \n",
       "min      0.000000  \n",
       "25%      0.000000  \n",
       "50%      0.000000  \n",
       "75%      2.000000  \n",
       "max      4.000000  "
      ]
     },
     "execution_count": 4,
     "metadata": {},
     "output_type": "execute_result"
    }
   ],
   "source": [
    "dataframe.describe()"
   ]
  },
  {
   "cell_type": "code",
   "execution_count": 5,
   "metadata": {},
   "outputs": [
    {
     "data": {
      "text/html": [
       "<div>\n",
       "<style scoped>\n",
       "    .dataframe tbody tr th:only-of-type {\n",
       "        vertical-align: middle;\n",
       "    }\n",
       "\n",
       "    .dataframe tbody tr th {\n",
       "        vertical-align: top;\n",
       "    }\n",
       "\n",
       "    .dataframe thead th {\n",
       "        text-align: right;\n",
       "    }\n",
       "</style>\n",
       "<table border=\"1\" class=\"dataframe\">\n",
       "  <thead>\n",
       "    <tr style=\"text-align: right;\">\n",
       "      <th></th>\n",
       "      <th>age</th>\n",
       "      <th>sex</th>\n",
       "      <th>chest_pain</th>\n",
       "      <th>resting_blood_pressure</th>\n",
       "      <th>cholestrol</th>\n",
       "      <th>fasting_blood_sugar</th>\n",
       "      <th>resting_ECG</th>\n",
       "      <th>max_heart_rate</th>\n",
       "      <th>exercise_induced_angina</th>\n",
       "      <th>depression_by_exercise</th>\n",
       "      <th>slope_of_exercise</th>\n",
       "      <th>number_of_vessels</th>\n",
       "      <th>thal</th>\n",
       "      <th>result</th>\n",
       "    </tr>\n",
       "  </thead>\n",
       "  <tbody>\n",
       "    <tr>\n",
       "      <td>0</td>\n",
       "      <td>63.0</td>\n",
       "      <td>1.0</td>\n",
       "      <td>1.0</td>\n",
       "      <td>145.0</td>\n",
       "      <td>233.0</td>\n",
       "      <td>1.0</td>\n",
       "      <td>2.0</td>\n",
       "      <td>150.0</td>\n",
       "      <td>0.0</td>\n",
       "      <td>2.3</td>\n",
       "      <td>3.0</td>\n",
       "      <td>0.0</td>\n",
       "      <td>6.0</td>\n",
       "      <td>0</td>\n",
       "    </tr>\n",
       "    <tr>\n",
       "      <td>1</td>\n",
       "      <td>67.0</td>\n",
       "      <td>1.0</td>\n",
       "      <td>4.0</td>\n",
       "      <td>160.0</td>\n",
       "      <td>286.0</td>\n",
       "      <td>0.0</td>\n",
       "      <td>2.0</td>\n",
       "      <td>108.0</td>\n",
       "      <td>1.0</td>\n",
       "      <td>1.5</td>\n",
       "      <td>2.0</td>\n",
       "      <td>3.0</td>\n",
       "      <td>3.0</td>\n",
       "      <td>2</td>\n",
       "    </tr>\n",
       "    <tr>\n",
       "      <td>2</td>\n",
       "      <td>67.0</td>\n",
       "      <td>1.0</td>\n",
       "      <td>4.0</td>\n",
       "      <td>120.0</td>\n",
       "      <td>229.0</td>\n",
       "      <td>0.0</td>\n",
       "      <td>2.0</td>\n",
       "      <td>129.0</td>\n",
       "      <td>1.0</td>\n",
       "      <td>2.6</td>\n",
       "      <td>2.0</td>\n",
       "      <td>2.0</td>\n",
       "      <td>7.0</td>\n",
       "      <td>1</td>\n",
       "    </tr>\n",
       "    <tr>\n",
       "      <td>3</td>\n",
       "      <td>37.0</td>\n",
       "      <td>1.0</td>\n",
       "      <td>3.0</td>\n",
       "      <td>130.0</td>\n",
       "      <td>250.0</td>\n",
       "      <td>0.0</td>\n",
       "      <td>0.0</td>\n",
       "      <td>187.0</td>\n",
       "      <td>0.0</td>\n",
       "      <td>3.5</td>\n",
       "      <td>3.0</td>\n",
       "      <td>0.0</td>\n",
       "      <td>3.0</td>\n",
       "      <td>0</td>\n",
       "    </tr>\n",
       "    <tr>\n",
       "      <td>4</td>\n",
       "      <td>41.0</td>\n",
       "      <td>0.0</td>\n",
       "      <td>2.0</td>\n",
       "      <td>130.0</td>\n",
       "      <td>204.0</td>\n",
       "      <td>0.0</td>\n",
       "      <td>2.0</td>\n",
       "      <td>172.0</td>\n",
       "      <td>0.0</td>\n",
       "      <td>1.4</td>\n",
       "      <td>1.0</td>\n",
       "      <td>0.0</td>\n",
       "      <td>3.0</td>\n",
       "      <td>0</td>\n",
       "    </tr>\n",
       "  </tbody>\n",
       "</table>\n",
       "</div>"
      ],
      "text/plain": [
       "    age  sex  chest_pain  resting_blood_pressure  cholestrol  \\\n",
       "0  63.0  1.0         1.0                   145.0       233.0   \n",
       "1  67.0  1.0         4.0                   160.0       286.0   \n",
       "2  67.0  1.0         4.0                   120.0       229.0   \n",
       "3  37.0  1.0         3.0                   130.0       250.0   \n",
       "4  41.0  0.0         2.0                   130.0       204.0   \n",
       "\n",
       "   fasting_blood_sugar  resting_ECG  max_heart_rate  exercise_induced_angina  \\\n",
       "0                  1.0          2.0           150.0                      0.0   \n",
       "1                  0.0          2.0           108.0                      1.0   \n",
       "2                  0.0          2.0           129.0                      1.0   \n",
       "3                  0.0          0.0           187.0                      0.0   \n",
       "4                  0.0          2.0           172.0                      0.0   \n",
       "\n",
       "   depression_by_exercise  slope_of_exercise number_of_vessels thal  result  \n",
       "0                     2.3                3.0               0.0  6.0       0  \n",
       "1                     1.5                2.0               3.0  3.0       2  \n",
       "2                     2.6                2.0               2.0  7.0       1  \n",
       "3                     3.5                3.0               0.0  3.0       0  \n",
       "4                     1.4                1.0               0.0  3.0       0  "
      ]
     },
     "execution_count": 5,
     "metadata": {},
     "output_type": "execute_result"
    }
   ],
   "source": [
    "dataframe.head()"
   ]
  },
  {
   "cell_type": "code",
   "execution_count": 6,
   "metadata": {},
   "outputs": [
    {
     "data": {
      "text/plain": [
       "age                        0\n",
       "sex                        0\n",
       "chest_pain                 0\n",
       "resting_blood_pressure     0\n",
       "cholestrol                 0\n",
       "fasting_blood_sugar        0\n",
       "resting_ECG                0\n",
       "max_heart_rate             0\n",
       "exercise_induced_angina    0\n",
       "depression_by_exercise     0\n",
       "slope_of_exercise          0\n",
       "number_of_vessels          0\n",
       "thal                       0\n",
       "result                     0\n",
       "dtype: int64"
      ]
     },
     "execution_count": 6,
     "metadata": {},
     "output_type": "execute_result"
    }
   ],
   "source": [
    "dataframe.isnull().sum()"
   ]
  },
  {
   "cell_type": "markdown",
   "metadata": {},
   "source": [
    "    2.Clean the Data:\n",
    "        2.1 Dealing with missing Values"
   ]
  },
  {
   "cell_type": "code",
   "execution_count": 7,
   "metadata": {},
   "outputs": [],
   "source": [
    "dataframe=dataframe.replace('?',value=np.NaN)"
   ]
  },
  {
   "cell_type": "code",
   "execution_count": null,
   "metadata": {},
   "outputs": [],
   "source": []
  },
  {
   "cell_type": "code",
   "execution_count": 8,
   "metadata": {},
   "outputs": [
    {
     "data": {
      "text/plain": [
       "age                        0\n",
       "sex                        0\n",
       "chest_pain                 0\n",
       "resting_blood_pressure     0\n",
       "cholestrol                 0\n",
       "fasting_blood_sugar        0\n",
       "resting_ECG                0\n",
       "max_heart_rate             0\n",
       "exercise_induced_angina    0\n",
       "depression_by_exercise     0\n",
       "slope_of_exercise          0\n",
       "number_of_vessels          4\n",
       "thal                       2\n",
       "result                     0\n",
       "dtype: int64"
      ]
     },
     "execution_count": 8,
     "metadata": {},
     "output_type": "execute_result"
    }
   ],
   "source": [
    "dataframe.isnull().sum()"
   ]
  },
  {
   "cell_type": "code",
   "execution_count": 9,
   "metadata": {},
   "outputs": [
    {
     "name": "stderr",
     "output_type": "stream",
     "text": [
      "C:\\Users\\Tarun\\Anaconda3\\lib\\site-packages\\sklearn\\utils\\deprecation.py:66: DeprecationWarning: Class Imputer is deprecated; Imputer was deprecated in version 0.20 and will be removed in 0.22. Import impute.SimpleImputer from sklearn instead.\n",
      "  warnings.warn(msg, category=DeprecationWarning)\n"
     ]
    }
   ],
   "source": [
    "columns=dataframe.columns\n",
    "imp=Imputer(missing_values='NaN',strategy='most_frequent',axis=1)\n",
    "dataframe=pd.DataFrame(imp.fit_transform(dataframe))\n",
    "dataframe.columns=columns"
   ]
  },
  {
   "cell_type": "code",
   "execution_count": 10,
   "metadata": {},
   "outputs": [
    {
     "data": {
      "text/plain": [
       "age                        0\n",
       "sex                        0\n",
       "chest_pain                 0\n",
       "resting_blood_pressure     0\n",
       "cholestrol                 0\n",
       "fasting_blood_sugar        0\n",
       "resting_ECG                0\n",
       "max_heart_rate             0\n",
       "exercise_induced_angina    0\n",
       "depression_by_exercise     0\n",
       "slope_of_exercise          0\n",
       "number_of_vessels          0\n",
       "thal                       0\n",
       "result                     0\n",
       "dtype: int64"
      ]
     },
     "execution_count": 10,
     "metadata": {},
     "output_type": "execute_result"
    }
   ],
   "source": [
    "dataframe.isnull().sum()"
   ]
  },
  {
   "cell_type": "markdown",
   "metadata": {},
   "source": [
    "    2.2 Remove the Outliners:"
   ]
  },
  {
   "cell_type": "code",
   "execution_count": 11,
   "metadata": {},
   "outputs": [
    {
     "data": {
      "text/plain": [
       "<matplotlib.axes._subplots.AxesSubplot at 0x250b4096b08>"
      ]
     },
     "execution_count": 11,
     "metadata": {},
     "output_type": "execute_result"
    },
    {
     "data": {
      "image/png": "[encoded data removed]",
      "text/plain": [
       "<Figure size 432x288 with 1 Axes>"
      ]
     },
     "metadata": {
      "needs_background": "light"
     },
     "output_type": "display_data"
    }
   ],
   "source": [
    "sns.boxplot(data=[dataframe['age'],dataframe['resting_blood_pressure'],dataframe['cholestrol'],\n",
    "                  dataframe['max_heart_rate'],dataframe['depression_by_exercise']])"
   ]
  },
  {
   "cell_type": "code",
   "execution_count": 12,
   "metadata": {},
   "outputs": [],
   "source": [
    "def eliminating_outliner(dataframe_in,column_name):\n",
    "    quan1=dataframe_in[column_name].quantile(0.25)\n",
    "    quan3=dataframe_in[column_name].quantile(0.75)\n",
    "    interQuantileRange=quan3-quan1\n",
    "    min_boundary=quan1-1.5*interQuantileRange\n",
    "    max_boundary=quan3+1.5*interQuantileRange\n",
    "    dataframe_out=dataframe_in.loc[(dataframe_in[column_name]>min_boundary) & (dataframe_in[column_name]<max_boundary)]\n",
    "    return dataframe_out\n",
    "\n",
    "dataframe['resting_blood_pressure']=eliminating_outliner(dataframe,'resting_blood_pressure')\n",
    "dataframe['cholestrol']=eliminating_outliner(dataframe,'cholestrol')\n",
    "dataframe['max_heart_rate']=eliminating_outliner(dataframe,'max_heart_rate')"
   ]
  },
  {
   "cell_type": "code",
   "execution_count": 13,
   "metadata": {},
   "outputs": [
    {
     "data": {
      "text/plain": [
       "<matplotlib.axes._subplots.AxesSubplot at 0x250b4439608>"
      ]
     },
     "execution_count": 13,
     "metadata": {},
     "output_type": "execute_result"
    },
    {
     "data": {
      "image/png": "[encoded data removed]",
      "text/plain": [
       "<Figure size 432x288 with 1 Axes>"
      ]
     },
     "metadata": {
      "needs_background": "light"
     },
     "output_type": "display_data"
    }
   ],
   "source": [
    "sns.boxplot(data=[dataframe['age'],dataframe['resting_blood_pressure'],\n",
    "                  dataframe['cholestrol'],dataframe['max_heart_rate'],dataframe['depression_by_exercise']])\n"
   ]
  },
  {
   "cell_type": "code",
   "execution_count": 14,
   "metadata": {},
   "outputs": [],
   "source": [
    "dataframe = pd.get_dummies(dataframe, columns = ['sex', 'chest_pain',\n",
    "                                                 'fasting_blood_sugar', 'resting_ECG', 'exercise_induced_angina', \n",
    "                                                 'slope_of_exercise', 'number_of_vessels', 'thal'])"
   ]
  },
  {
   "cell_type": "code",
   "execution_count": 15,
   "metadata": {},
   "outputs": [
    {
     "data": {
      "text/html": [
       "<div>\n",
       "<style scoped>\n",
       "    .dataframe tbody tr th:only-of-type {\n",
       "        vertical-align: middle;\n",
       "    }\n",
       "\n",
       "    .dataframe tbody tr th {\n",
       "        vertical-align: top;\n",
       "    }\n",
       "\n",
       "    .dataframe thead th {\n",
       "        text-align: right;\n",
       "    }\n",
       "</style>\n",
       "<table border=\"1\" class=\"dataframe\">\n",
       "  <thead>\n",
       "    <tr style=\"text-align: right;\">\n",
       "      <th></th>\n",
       "      <th>age</th>\n",
       "      <th>resting_blood_pressure</th>\n",
       "      <th>cholestrol</th>\n",
       "      <th>max_heart_rate</th>\n",
       "      <th>depression_by_exercise</th>\n",
       "      <th>result</th>\n",
       "      <th>sex_0.0</th>\n",
       "      <th>sex_1.0</th>\n",
       "      <th>chest_pain_1.0</th>\n",
       "      <th>chest_pain_2.0</th>\n",
       "      <th>...</th>\n",
       "      <th>slope_of_exercise_3.0</th>\n",
       "      <th>number_of_vessels_0.0</th>\n",
       "      <th>number_of_vessels_1.0</th>\n",
       "      <th>number_of_vessels_2.0</th>\n",
       "      <th>number_of_vessels_3.0</th>\n",
       "      <th>thal_0.0</th>\n",
       "      <th>thal_1.0</th>\n",
       "      <th>thal_3.0</th>\n",
       "      <th>thal_6.0</th>\n",
       "      <th>thal_7.0</th>\n",
       "    </tr>\n",
       "  </thead>\n",
       "  <tbody>\n",
       "    <tr>\n",
       "      <td>0</td>\n",
       "      <td>63.0</td>\n",
       "      <td>63.0</td>\n",
       "      <td>63.0</td>\n",
       "      <td>63.0</td>\n",
       "      <td>2.3</td>\n",
       "      <td>0.0</td>\n",
       "      <td>0</td>\n",
       "      <td>1</td>\n",
       "      <td>1</td>\n",
       "      <td>0</td>\n",
       "      <td>...</td>\n",
       "      <td>1</td>\n",
       "      <td>1</td>\n",
       "      <td>0</td>\n",
       "      <td>0</td>\n",
       "      <td>0</td>\n",
       "      <td>0</td>\n",
       "      <td>0</td>\n",
       "      <td>0</td>\n",
       "      <td>1</td>\n",
       "      <td>0</td>\n",
       "    </tr>\n",
       "    <tr>\n",
       "      <td>1</td>\n",
       "      <td>67.0</td>\n",
       "      <td>67.0</td>\n",
       "      <td>67.0</td>\n",
       "      <td>67.0</td>\n",
       "      <td>1.5</td>\n",
       "      <td>2.0</td>\n",
       "      <td>0</td>\n",
       "      <td>1</td>\n",
       "      <td>0</td>\n",
       "      <td>0</td>\n",
       "      <td>...</td>\n",
       "      <td>0</td>\n",
       "      <td>0</td>\n",
       "      <td>0</td>\n",
       "      <td>0</td>\n",
       "      <td>1</td>\n",
       "      <td>0</td>\n",
       "      <td>0</td>\n",
       "      <td>1</td>\n",
       "      <td>0</td>\n",
       "      <td>0</td>\n",
       "    </tr>\n",
       "    <tr>\n",
       "      <td>2</td>\n",
       "      <td>67.0</td>\n",
       "      <td>67.0</td>\n",
       "      <td>67.0</td>\n",
       "      <td>67.0</td>\n",
       "      <td>2.6</td>\n",
       "      <td>1.0</td>\n",
       "      <td>0</td>\n",
       "      <td>1</td>\n",
       "      <td>0</td>\n",
       "      <td>0</td>\n",
       "      <td>...</td>\n",
       "      <td>0</td>\n",
       "      <td>0</td>\n",
       "      <td>0</td>\n",
       "      <td>1</td>\n",
       "      <td>0</td>\n",
       "      <td>0</td>\n",
       "      <td>0</td>\n",
       "      <td>0</td>\n",
       "      <td>0</td>\n",
       "      <td>1</td>\n",
       "    </tr>\n",
       "    <tr>\n",
       "      <td>3</td>\n",
       "      <td>37.0</td>\n",
       "      <td>37.0</td>\n",
       "      <td>37.0</td>\n",
       "      <td>37.0</td>\n",
       "      <td>3.5</td>\n",
       "      <td>0.0</td>\n",
       "      <td>0</td>\n",
       "      <td>1</td>\n",
       "      <td>0</td>\n",
       "      <td>0</td>\n",
       "      <td>...</td>\n",
       "      <td>1</td>\n",
       "      <td>1</td>\n",
       "      <td>0</td>\n",
       "      <td>0</td>\n",
       "      <td>0</td>\n",
       "      <td>0</td>\n",
       "      <td>0</td>\n",
       "      <td>1</td>\n",
       "      <td>0</td>\n",
       "      <td>0</td>\n",
       "    </tr>\n",
       "    <tr>\n",
       "      <td>4</td>\n",
       "      <td>41.0</td>\n",
       "      <td>41.0</td>\n",
       "      <td>41.0</td>\n",
       "      <td>41.0</td>\n",
       "      <td>1.4</td>\n",
       "      <td>0.0</td>\n",
       "      <td>1</td>\n",
       "      <td>0</td>\n",
       "      <td>0</td>\n",
       "      <td>1</td>\n",
       "      <td>...</td>\n",
       "      <td>0</td>\n",
       "      <td>1</td>\n",
       "      <td>0</td>\n",
       "      <td>0</td>\n",
       "      <td>0</td>\n",
       "      <td>0</td>\n",
       "      <td>0</td>\n",
       "      <td>1</td>\n",
       "      <td>0</td>\n",
       "      <td>0</td>\n",
       "    </tr>\n",
       "  </tbody>\n",
       "</table>\n",
       "<p>5 rows × 31 columns</p>\n",
       "</div>"
      ],
      "text/plain": [
       "    age  resting_blood_pressure  cholestrol  max_heart_rate  \\\n",
       "0  63.0                    63.0        63.0            63.0   \n",
       "1  67.0                    67.0        67.0            67.0   \n",
       "2  67.0                    67.0        67.0            67.0   \n",
       "3  37.0                    37.0        37.0            37.0   \n",
       "4  41.0                    41.0        41.0            41.0   \n",
       "\n",
       "   depression_by_exercise  result  sex_0.0  sex_1.0  chest_pain_1.0  \\\n",
       "0                     2.3     0.0        0        1               1   \n",
       "1                     1.5     2.0        0        1               0   \n",
       "2                     2.6     1.0        0        1               0   \n",
       "3                     3.5     0.0        0        1               0   \n",
       "4                     1.4     0.0        1        0               0   \n",
       "\n",
       "   chest_pain_2.0  ...  slope_of_exercise_3.0  number_of_vessels_0.0  \\\n",
       "0               0  ...                      1                      1   \n",
       "1               0  ...                      0                      0   \n",
       "2               0  ...                      0                      0   \n",
       "3               0  ...                      1                      1   \n",
       "4               1  ...                      0                      1   \n",
       "\n",
       "   number_of_vessels_1.0  number_of_vessels_2.0  number_of_vessels_3.0  \\\n",
       "0                      0                      0                      0   \n",
       "1                      0                      0                      1   \n",
       "2                      0                      1                      0   \n",
       "3                      0                      0                      0   \n",
       "4                      0                      0                      0   \n",
       "\n",
       "   thal_0.0  thal_1.0  thal_3.0  thal_6.0  thal_7.0  \n",
       "0         0         0         0         1         0  \n",
       "1         0         0         1         0         0  \n",
       "2         0         0         0         0         1  \n",
       "3         0         0         1         0         0  \n",
       "4         0         0         1         0         0  \n",
       "\n",
       "[5 rows x 31 columns]"
      ]
     },
     "execution_count": 15,
     "metadata": {},
     "output_type": "execute_result"
    }
   ],
   "source": [
    "dataframe.head()"
   ]
  },
  {
   "cell_type": "code",
   "execution_count": 16,
   "metadata": {},
   "outputs": [
    {
     "name": "stdout",
     "output_type": "stream",
     "text": [
      "<class 'pandas.core.frame.DataFrame'>\n",
      "RangeIndex: 303 entries, 0 to 302\n",
      "Data columns (total 31 columns):\n",
      "age                            303 non-null float64\n",
      "resting_blood_pressure         290 non-null float64\n",
      "cholestrol                     298 non-null float64\n",
      "max_heart_rate                 302 non-null float64\n",
      "depression_by_exercise         303 non-null float64\n",
      "result                         303 non-null float64\n",
      "sex_0.0                        303 non-null uint8\n",
      "sex_1.0                        303 non-null uint8\n",
      "chest_pain_1.0                 303 non-null uint8\n",
      "chest_pain_2.0                 303 non-null uint8\n",
      "chest_pain_3.0                 303 non-null uint8\n",
      "chest_pain_4.0                 303 non-null uint8\n",
      "fasting_blood_sugar_0.0        303 non-null uint8\n",
      "fasting_blood_sugar_1.0        303 non-null uint8\n",
      "resting_ECG_0.0                303 non-null uint8\n",
      "resting_ECG_1.0                303 non-null uint8\n",
      "resting_ECG_2.0                303 non-null uint8\n",
      "exercise_induced_angina_0.0    303 non-null uint8\n",
      "exercise_induced_angina_1.0    303 non-null uint8\n",
      "slope_of_exercise_1.0          303 non-null uint8\n",
      "slope_of_exercise_2.0          303 non-null uint8\n",
      "slope_of_exercise_3.0          303 non-null uint8\n",
      "number_of_vessels_0.0          303 non-null uint8\n",
      "number_of_vessels_1.0          303 non-null uint8\n",
      "number_of_vessels_2.0          303 non-null uint8\n",
      "number_of_vessels_3.0          303 non-null uint8\n",
      "thal_0.0                       303 non-null uint8\n",
      "thal_1.0                       303 non-null uint8\n",
      "thal_3.0                       303 non-null uint8\n",
      "thal_6.0                       303 non-null uint8\n",
      "thal_7.0                       303 non-null uint8\n",
      "dtypes: float64(6), uint8(25)\n",
      "memory usage: 21.7 KB\n"
     ]
    }
   ],
   "source": [
    "dataframe.info()"
   ]
  },
  {
   "cell_type": "markdown",
   "metadata": {},
   "source": [
    "\n",
    "3.Feature Engineering:\n"
   ]
  },
  {
   "cell_type": "code",
   "execution_count": 17,
   "metadata": {},
   "outputs": [
    {
     "data": {
      "text/html": [
       "<div>\n",
       "<style scoped>\n",
       "    .dataframe tbody tr th:only-of-type {\n",
       "        vertical-align: middle;\n",
       "    }\n",
       "\n",
       "    .dataframe tbody tr th {\n",
       "        vertical-align: top;\n",
       "    }\n",
       "\n",
       "    .dataframe thead th {\n",
       "        text-align: right;\n",
       "    }\n",
       "</style>\n",
       "<table border=\"1\" class=\"dataframe\">\n",
       "  <thead>\n",
       "    <tr style=\"text-align: right;\">\n",
       "      <th></th>\n",
       "      <th>age</th>\n",
       "      <th>resting_blood_pressure</th>\n",
       "      <th>cholestrol</th>\n",
       "      <th>max_heart_rate</th>\n",
       "      <th>depression_by_exercise</th>\n",
       "      <th>result</th>\n",
       "      <th>sex_0.0</th>\n",
       "      <th>sex_1.0</th>\n",
       "      <th>chest_pain_1.0</th>\n",
       "      <th>chest_pain_2.0</th>\n",
       "      <th>...</th>\n",
       "      <th>slope_of_exercise_3.0</th>\n",
       "      <th>number_of_vessels_0.0</th>\n",
       "      <th>number_of_vessels_1.0</th>\n",
       "      <th>number_of_vessels_2.0</th>\n",
       "      <th>number_of_vessels_3.0</th>\n",
       "      <th>thal_0.0</th>\n",
       "      <th>thal_1.0</th>\n",
       "      <th>thal_3.0</th>\n",
       "      <th>thal_6.0</th>\n",
       "      <th>thal_7.0</th>\n",
       "    </tr>\n",
       "  </thead>\n",
       "  <tbody>\n",
       "    <tr>\n",
       "      <td>0</td>\n",
       "      <td>0.948726</td>\n",
       "      <td>0.964757</td>\n",
       "      <td>0.963914</td>\n",
       "      <td>0.954829</td>\n",
       "      <td>1.087338</td>\n",
       "      <td>0.0</td>\n",
       "      <td>0</td>\n",
       "      <td>1</td>\n",
       "      <td>1</td>\n",
       "      <td>0</td>\n",
       "      <td>...</td>\n",
       "      <td>1</td>\n",
       "      <td>1</td>\n",
       "      <td>0</td>\n",
       "      <td>0</td>\n",
       "      <td>0</td>\n",
       "      <td>0</td>\n",
       "      <td>0</td>\n",
       "      <td>0</td>\n",
       "      <td>1</td>\n",
       "      <td>0</td>\n",
       "    </tr>\n",
       "    <tr>\n",
       "      <td>1</td>\n",
       "      <td>1.392002</td>\n",
       "      <td>1.403972</td>\n",
       "      <td>1.407196</td>\n",
       "      <td>1.398799</td>\n",
       "      <td>0.397182</td>\n",
       "      <td>2.0</td>\n",
       "      <td>0</td>\n",
       "      <td>1</td>\n",
       "      <td>0</td>\n",
       "      <td>0</td>\n",
       "      <td>...</td>\n",
       "      <td>0</td>\n",
       "      <td>0</td>\n",
       "      <td>0</td>\n",
       "      <td>0</td>\n",
       "      <td>1</td>\n",
       "      <td>0</td>\n",
       "      <td>0</td>\n",
       "      <td>1</td>\n",
       "      <td>0</td>\n",
       "      <td>0</td>\n",
       "    </tr>\n",
       "    <tr>\n",
       "      <td>2</td>\n",
       "      <td>1.392002</td>\n",
       "      <td>1.403972</td>\n",
       "      <td>1.407196</td>\n",
       "      <td>1.398799</td>\n",
       "      <td>1.346147</td>\n",
       "      <td>1.0</td>\n",
       "      <td>0</td>\n",
       "      <td>1</td>\n",
       "      <td>0</td>\n",
       "      <td>0</td>\n",
       "      <td>...</td>\n",
       "      <td>0</td>\n",
       "      <td>0</td>\n",
       "      <td>0</td>\n",
       "      <td>1</td>\n",
       "      <td>0</td>\n",
       "      <td>0</td>\n",
       "      <td>0</td>\n",
       "      <td>0</td>\n",
       "      <td>0</td>\n",
       "      <td>1</td>\n",
       "    </tr>\n",
       "    <tr>\n",
       "      <td>3</td>\n",
       "      <td>-1.932564</td>\n",
       "      <td>-1.890137</td>\n",
       "      <td>-1.917416</td>\n",
       "      <td>-1.930975</td>\n",
       "      <td>2.122573</td>\n",
       "      <td>0.0</td>\n",
       "      <td>0</td>\n",
       "      <td>1</td>\n",
       "      <td>0</td>\n",
       "      <td>0</td>\n",
       "      <td>...</td>\n",
       "      <td>1</td>\n",
       "      <td>1</td>\n",
       "      <td>0</td>\n",
       "      <td>0</td>\n",
       "      <td>0</td>\n",
       "      <td>0</td>\n",
       "      <td>0</td>\n",
       "      <td>1</td>\n",
       "      <td>0</td>\n",
       "      <td>0</td>\n",
       "    </tr>\n",
       "    <tr>\n",
       "      <td>4</td>\n",
       "      <td>-1.489288</td>\n",
       "      <td>-1.450922</td>\n",
       "      <td>-1.474134</td>\n",
       "      <td>-1.487005</td>\n",
       "      <td>0.310912</td>\n",
       "      <td>0.0</td>\n",
       "      <td>1</td>\n",
       "      <td>0</td>\n",
       "      <td>0</td>\n",
       "      <td>1</td>\n",
       "      <td>...</td>\n",
       "      <td>0</td>\n",
       "      <td>1</td>\n",
       "      <td>0</td>\n",
       "      <td>0</td>\n",
       "      <td>0</td>\n",
       "      <td>0</td>\n",
       "      <td>0</td>\n",
       "      <td>1</td>\n",
       "      <td>0</td>\n",
       "      <td>0</td>\n",
       "    </tr>\n",
       "  </tbody>\n",
       "</table>\n",
       "<p>5 rows × 31 columns</p>\n",
       "</div>"
      ],
      "text/plain": [
       "        age  resting_blood_pressure  cholestrol  max_heart_rate  \\\n",
       "0  0.948726                0.964757    0.963914        0.954829   \n",
       "1  1.392002                1.403972    1.407196        1.398799   \n",
       "2  1.392002                1.403972    1.407196        1.398799   \n",
       "3 -1.932564               -1.890137   -1.917416       -1.930975   \n",
       "4 -1.489288               -1.450922   -1.474134       -1.487005   \n",
       "\n",
       "   depression_by_exercise  result  sex_0.0  sex_1.0  chest_pain_1.0  \\\n",
       "0                1.087338     0.0        0        1               1   \n",
       "1                0.397182     2.0        0        1               0   \n",
       "2                1.346147     1.0        0        1               0   \n",
       "3                2.122573     0.0        0        1               0   \n",
       "4                0.310912     0.0        1        0               0   \n",
       "\n",
       "   chest_pain_2.0  ...  slope_of_exercise_3.0  number_of_vessels_0.0  \\\n",
       "0               0  ...                      1                      1   \n",
       "1               0  ...                      0                      0   \n",
       "2               0  ...                      0                      0   \n",
       "3               0  ...                      1                      1   \n",
       "4               1  ...                      0                      1   \n",
       "\n",
       "   number_of_vessels_1.0  number_of_vessels_2.0  number_of_vessels_3.0  \\\n",
       "0                      0                      0                      0   \n",
       "1                      0                      0                      1   \n",
       "2                      0                      1                      0   \n",
       "3                      0                      0                      0   \n",
       "4                      0                      0                      0   \n",
       "\n",
       "   thal_0.0  thal_1.0  thal_3.0  thal_6.0  thal_7.0  \n",
       "0         0         0         0         1         0  \n",
       "1         0         0         1         0         0  \n",
       "2         0         0         0         0         1  \n",
       "3         0         0         1         0         0  \n",
       "4         0         0         1         0         0  \n",
       "\n",
       "[5 rows x 31 columns]"
      ]
     },
     "execution_count": 17,
     "metadata": {},
     "output_type": "execute_result"
    }
   ],
   "source": [
    "from sklearn.model_selection import train_test_split\n",
    "from sklearn.preprocessing import StandardScaler\n",
    "standardScaler = StandardScaler()\n",
    "columns_to_scale = ['age', 'resting_blood_pressure', 'cholestrol', 'max_heart_rate', 'depression_by_exercise']\n",
    "dataframe[columns_to_scale] = standardScaler.fit_transform(dataframe[columns_to_scale])\n",
    "dataframe.head(5)"
   ]
  },
  {
   "cell_type": "code",
   "execution_count": 18,
   "metadata": {},
   "outputs": [
    {
     "data": {
      "image/png": "[encoded data removed]",
      "text/plain": [
       "<Figure size 432x288 with 2 Axes>"
      ]
     },
     "metadata": {
      "needs_background": "light"
     },
     "output_type": "display_data"
    }
   ],
   "source": [
    "correlationMatrix = dataframe.corr()\n",
    "top_corr_features = correlationMatrix.index\n",
    "#plt.figure(figsize=(20,20))\n",
    "#plot heat map\n",
    "g=sns.heatmap(dataframe[top_corr_features].corr())"
   ]
  },
  {
   "cell_type": "code",
   "execution_count": 19,
   "metadata": {},
   "outputs": [],
   "source": [
    "dataframe['result'].replace(to_replace=[1,2,3,4],value=1,inplace=True)"
   ]
  },
  {
   "cell_type": "code",
   "execution_count": 20,
   "metadata": {},
   "outputs": [
    {
     "data": {
      "text/plain": [
       "<matplotlib.axes._subplots.AxesSubplot at 0x250b4736448>"
      ]
     },
     "execution_count": 20,
     "metadata": {},
     "output_type": "execute_result"
    },
    {
     "data": {
      "image/png": "[encoded data removed]",
      "text/plain": [
       "<Figure size 432x288 with 1 Axes>"
      ]
     },
     "metadata": {
      "needs_background": "light"
     },
     "output_type": "display_data"
    }
   ],
   "source": [
    "sns.countplot(x='result',data=dataframe)"
   ]
  },
  {
   "cell_type": "code",
   "execution_count": 21,
   "metadata": {},
   "outputs": [
    {
     "data": {
      "text/plain": [
       "array([[<matplotlib.axes._subplots.AxesSubplot object at 0x00000250B47B3F88>,\n",
       "        <matplotlib.axes._subplots.AxesSubplot object at 0x00000250B47FB0C8>,\n",
       "        <matplotlib.axes._subplots.AxesSubplot object at 0x00000250B482FF88>,\n",
       "        <matplotlib.axes._subplots.AxesSubplot object at 0x00000250B486D0C8>,\n",
       "        <matplotlib.axes._subplots.AxesSubplot object at 0x00000250B48A5208>,\n",
       "        <matplotlib.axes._subplots.AxesSubplot object at 0x00000250B48DA4C8>],\n",
       "       [<matplotlib.axes._subplots.AxesSubplot object at 0x00000250B49155C8>,\n",
       "        <matplotlib.axes._subplots.AxesSubplot object at 0x00000250B494D708>,\n",
       "        <matplotlib.axes._subplots.AxesSubplot object at 0x00000250B4958308>,\n",
       "        <matplotlib.axes._subplots.AxesSubplot object at 0x00000250B4992508>,\n",
       "        <matplotlib.axes._subplots.AxesSubplot object at 0x00000250B49F6A08>,\n",
       "        <matplotlib.axes._subplots.AxesSubplot object at 0x00000250B4A2FB48>],\n",
       "       [<matplotlib.axes._subplots.AxesSubplot object at 0x00000250B4A68C48>,\n",
       "        <matplotlib.axes._subplots.AxesSubplot object at 0x00000250B4A9FD48>,\n",
       "        <matplotlib.axes._subplots.AxesSubplot object at 0x00000250B4AD8E88>,\n",
       "        <matplotlib.axes._subplots.AxesSubplot object at 0x00000250B4B11F08>,\n",
       "        <matplotlib.axes._subplots.AxesSubplot object at 0x00000250B4B50048>,\n",
       "        <matplotlib.axes._subplots.AxesSubplot object at 0x00000250B4B87188>],\n",
       "       [<matplotlib.axes._subplots.AxesSubplot object at 0x00000250B4BC0288>,\n",
       "        <matplotlib.axes._subplots.AxesSubplot object at 0x00000250B4BF8388>,\n",
       "        <matplotlib.axes._subplots.AxesSubplot object at 0x00000250B4C30448>,\n",
       "        <matplotlib.axes._subplots.AxesSubplot object at 0x00000250B4C69548>,\n",
       "        <matplotlib.axes._subplots.AxesSubplot object at 0x00000250B4CAAE48>,\n",
       "        <matplotlib.axes._subplots.AxesSubplot object at 0x00000250B4CDD788>],\n",
       "       [<matplotlib.axes._subplots.AxesSubplot object at 0x00000250B4D14888>,\n",
       "        <matplotlib.axes._subplots.AxesSubplot object at 0x00000250B4D4E948>,\n",
       "        <matplotlib.axes._subplots.AxesSubplot object at 0x00000250B4D87A88>,\n",
       "        <matplotlib.axes._subplots.AxesSubplot object at 0x00000250B4DBFB88>,\n",
       "        <matplotlib.axes._subplots.AxesSubplot object at 0x00000250B4DF6C88>,\n",
       "        <matplotlib.axes._subplots.AxesSubplot object at 0x00000250B4E2FDC8>],\n",
       "       [<matplotlib.axes._subplots.AxesSubplot object at 0x00000250B4E68F08>,\n",
       "        <matplotlib.axes._subplots.AxesSubplot object at 0x00000250B4EA1F48>,\n",
       "        <matplotlib.axes._subplots.AxesSubplot object at 0x00000250B4EDF148>,\n",
       "        <matplotlib.axes._subplots.AxesSubplot object at 0x00000250B4F16348>,\n",
       "        <matplotlib.axes._subplots.AxesSubplot object at 0x00000250B4F4E508>,\n",
       "        <matplotlib.axes._subplots.AxesSubplot object at 0x00000250B4F876C8>]],\n",
       "      dtype=object)"
      ]
     },
     "execution_count": 21,
     "metadata": {},
     "output_type": "execute_result"
    },
    {
     "data": {
      "image/png": "[encoded data removed]",
      "text/plain": [
       "<Figure size 1440x1440 with 36 Axes>"
      ]
     },
     "metadata": {
      "needs_background": "light"
     },
     "output_type": "display_data"
    }
   ],
   "source": [
    "dataframe.hist(ax= plt.figure(figsize = (20,20)).gca())"
   ]
  },
  {
   "cell_type": "markdown",
   "metadata": {},
   "source": [
    "4. Model Building & Performance Measurements:\n",
    "    We are going to experiment with 5 algorithms,\n",
    "        1.LogisticRegression\n",
    "        2.Naive Bayes Classifier\n",
    "        3.KNeighborsClassifier\n",
    "        4.DecisionTreeClassifier\n",
    "        5.RandomForestClassifier\n",
    "        \n",
    "    and then compare the accuracy. But before that we'll use cross validation for training and testing our dataset.\n",
    "    "
   ]
  },
  {
   "cell_type": "code",
   "execution_count": 22,
   "metadata": {},
   "outputs": [],
   "source": [
    "from sklearn.model_selection import train_test_split\n",
    "from sklearn.model_selection import cross_val_score\n",
    "from sklearn import metrics\n",
    "from sklearn.linear_model import LogisticRegression\n",
    "from sklearn.naive_bayes import GaussianNB\n",
    "from sklearn.neighbors import KNeighborsClassifier\n",
    "from sklearn.tree import DecisionTreeClassifier\n",
    "from sklearn.ensemble import RandomForestClassifier"
   ]
  },
  {
   "cell_type": "code",
   "execution_count": 23,
   "metadata": {},
   "outputs": [
    {
     "name": "stderr",
     "output_type": "stream",
     "text": [
      "C:\\Users\\Tarun\\Anaconda3\\lib\\site-packages\\sklearn\\utils\\deprecation.py:66: DeprecationWarning: Class Imputer is deprecated; Imputer was deprecated in version 0.20 and will be removed in 0.22. Import impute.SimpleImputer from sklearn instead.\n",
      "  warnings.warn(msg, category=DeprecationWarning)\n"
     ]
    }
   ],
   "source": [
    "columns=dataframe.columns\n",
    "imp=Imputer(missing_values='NaN',strategy='mean',axis=1)\n",
    "dataframe=pd.DataFrame(imp.fit_transform(dataframe))\n",
    "dataframe.columns=columns\n",
    "\n",
    "Y_result_label=dataframe['result']\n",
    "X_label=dataframe.drop(['result'],axis=1)\n",
    "\n",
    "def model_score_calculator(model,X_label,Y_label):\n",
    "    model.fit(X_label,Y_label)\n",
    "    score=cross_val_score(model,X_label,Y_result_label,cv=10)\n",
    "    y_pred=model.predict(X_label)\n",
    "    print('Learning Accuracy:',score.mean())\n",
    "    print('Prediction Accuracy:',metrics.accuracy_score(Y_result_label,y_pred))\n",
    "    print('Confusion Matrix:')\n",
    "    print(metrics.confusion_matrix(Y_result_label,y_pred))\n",
    "    print('Model Classification Report:')\n",
    "    print(metrics.classification_report(Y_result_label,y_pred))"
   ]
  },
  {
   "cell_type": "markdown",
   "metadata": {},
   "source": [
    "Creating a generalize method that returns the score of the different models:"
   ]
  },
  {
   "cell_type": "code",
   "execution_count": 24,
   "metadata": {},
   "outputs": [
    {
     "name": "stdout",
     "output_type": "stream",
     "text": [
      "Learning Accuracy: 0.8539340007415646\n",
      "Prediction Accuracy: 0.8679867986798679\n",
      "Confusion Matrix:\n",
      "[[148  16]\n",
      " [ 24 115]]\n",
      "Model Classification Report:\n",
      "              precision    recall  f1-score   support\n",
      "\n",
      "         0.0       0.86      0.90      0.88       164\n",
      "         1.0       0.88      0.83      0.85       139\n",
      "\n",
      "    accuracy                           0.87       303\n",
      "   macro avg       0.87      0.86      0.87       303\n",
      "weighted avg       0.87      0.87      0.87       303\n",
      "\n"
     ]
    }
   ],
   "source": [
    "model_score_calculator(LogisticRegression(),X_label,Y_result_label)"
   ]
  },
  {
   "cell_type": "code",
   "execution_count": 25,
   "metadata": {},
   "outputs": [
    {
     "name": "stdout",
     "output_type": "stream",
     "text": [
      "Learning Accuracy: 0.8150166852057843\n",
      "Prediction Accuracy: 0.8382838283828383\n",
      "Confusion Matrix:\n",
      "[[146  18]\n",
      " [ 31 108]]\n",
      "Model Classification Report:\n",
      "              precision    recall  f1-score   support\n",
      "\n",
      "         0.0       0.82      0.89      0.86       164\n",
      "         1.0       0.86      0.78      0.82       139\n",
      "\n",
      "    accuracy                           0.84       303\n",
      "   macro avg       0.84      0.83      0.84       303\n",
      "weighted avg       0.84      0.84      0.84       303\n",
      "\n"
     ]
    }
   ],
   "source": [
    "model_score_calculator(GaussianNB(),X_label,Y_result_label)"
   ]
  },
  {
   "cell_type": "code",
   "execution_count": 26,
   "metadata": {},
   "outputs": [
    {
     "name": "stdout",
     "output_type": "stream",
     "text": [
      "Learning Accuracy: 0.8316833518724509\n",
      "Prediction Accuracy: 0.8448844884488449\n",
      "Confusion Matrix:\n",
      "[[149  15]\n",
      " [ 32 107]]\n",
      "Model Classification Report:\n",
      "              precision    recall  f1-score   support\n",
      "\n",
      "         0.0       0.82      0.91      0.86       164\n",
      "         1.0       0.88      0.77      0.82       139\n",
      "\n",
      "    accuracy                           0.84       303\n",
      "   macro avg       0.85      0.84      0.84       303\n",
      "weighted avg       0.85      0.84      0.84       303\n",
      "\n"
     ]
    }
   ],
   "source": [
    "model_score_calculator(KNeighborsClassifier(n_neighbors=20),X_label,Y_result_label)"
   ]
  },
  {
   "cell_type": "code",
   "execution_count": 27,
   "metadata": {},
   "outputs": [
    {
     "name": "stdout",
     "output_type": "stream",
     "text": [
      "Learning Accuracy: 0.764004449388209\n",
      "Prediction Accuracy: 0.9966996699669967\n",
      "Confusion Matrix:\n",
      "[[164   0]\n",
      " [  1 138]]\n",
      "Model Classification Report:\n",
      "              precision    recall  f1-score   support\n",
      "\n",
      "         0.0       0.99      1.00      1.00       164\n",
      "         1.0       1.00      0.99      1.00       139\n",
      "\n",
      "    accuracy                           1.00       303\n",
      "   macro avg       1.00      1.00      1.00       303\n",
      "weighted avg       1.00      1.00      1.00       303\n",
      "\n"
     ]
    }
   ],
   "source": [
    "model_score_calculator(DecisionTreeClassifier(),X_label,Y_result_label)"
   ]
  },
  {
   "cell_type": "code",
   "execution_count": 28,
   "metadata": {},
   "outputs": [
    {
     "name": "stdout",
     "output_type": "stream",
     "text": [
      "Learning Accuracy: 0.8080200222469409\n",
      "Prediction Accuracy: 0.9735973597359736\n",
      "Confusion Matrix:\n",
      "[[159   5]\n",
      " [  3 136]]\n",
      "Model Classification Report:\n",
      "              precision    recall  f1-score   support\n",
      "\n",
      "         0.0       0.98      0.97      0.98       164\n",
      "         1.0       0.96      0.98      0.97       139\n",
      "\n",
      "    accuracy                           0.97       303\n",
      "   macro avg       0.97      0.97      0.97       303\n",
      "weighted avg       0.97      0.97      0.97       303\n",
      "\n"
     ]
    }
   ],
   "source": [
    "model_score_calculator(RandomForestClassifier(n_estimators=7),X_label,Y_result_label)"
   ]
  },
  {
   "cell_type": "code",
   "execution_count": 29,
   "metadata": {},
   "outputs": [
    {
     "data": {
      "text/plain": [
       "Text(0.5, 1.0, 'K Neighbors Classifier scores for different K values')"
      ]
     },
     "execution_count": 29,
     "metadata": {},
     "output_type": "execute_result"
    },
    {
     "data": {
      "image/png": "[encoded data removed]",
      "text/plain": [
       "<Figure size 1440x1440 with 1 Axes>"
      ]
     },
     "metadata": {
      "needs_background": "light"
     },
     "output_type": "display_data"
    }
   ],
   "source": [
    "rfc_scores = []\n",
    "for k in range(1,20):\n",
    "    rfc_classifier = RandomForestClassifier(n_estimators=k)\n",
    "    score=cross_val_score(rfc_classifier,X_label,Y_result_label,cv=10)\n",
    "    rfc_scores.append(score.mean())\n",
    "    \n",
    "plt.figure(figsize = (20,20))\n",
    "plt.plot([k for k in range(1, 20)], rfc_scores, color = 'orange')\n",
    "for i in range(1,20):\n",
    "    plt.text(i, rfc_scores[i-1], (i, rfc_scores[i-1]))\n",
    "\n",
    "plt.xticks([i for i in range(1, 20)])\n",
    "plt.xlabel('Number of Estimators (K)')\n",
    "plt.ylabel('Scores')\n",
    "plt.title('K Neighbors Classifier scores for different K values')"
   ]
  },
  {
   "cell_type": "code",
   "execution_count": 30,
   "metadata": {},
   "outputs": [
    {
     "name": "stdout",
     "output_type": "stream",
     "text": [
      "Learning Accuracy: 0.8141490545050056\n",
      "Prediction Accuracy: 0.9933993399339934\n",
      "Confusion Matrix:\n",
      "[[163   1]\n",
      " [  1 138]]\n",
      "Model Classification Report:\n",
      "              precision    recall  f1-score   support\n",
      "\n",
      "         0.0       0.99      0.99      0.99       164\n",
      "         1.0       0.99      0.99      0.99       139\n",
      "\n",
      "    accuracy                           0.99       303\n",
      "   macro avg       0.99      0.99      0.99       303\n",
      "weighted avg       0.99      0.99      0.99       303\n",
      "\n"
     ]
    }
   ],
   "source": [
    "model_score_calculator(RandomForestClassifier(n_estimators=17),X_label,Y_result_label)"
   ]
  },
  {
   "cell_type": "code",
   "execution_count": null,
   "metadata": {},
   "outputs": [],
   "source": []
  },
  {
   "cell_type": "code",
   "execution_count": null,
   "metadata": {},
   "outputs": [],
   "source": []
  },
  {
   "cell_type": "code",
   "execution_count": null,
   "metadata": {},
   "outputs": [],
   "source": []
  }
 ],
 "metadata": {
  "kernelspec": {
   "display_name": "Python 3",
   "language": "python",
   "name": "python3"
  },
  "language_info": {
   "codemirror_mode": {
    "name": "ipython",
    "version": 3
   },
   "file_extension": ".py",
   "mimetype": "text/x-python",
   "name": "python",
   "nbconvert_exporter": "python",
   "pygments_lexer": "ipython3",
   "version": "3.7.4"
  }
 },
 "nbformat": 4,
 "nbformat_minor": 4
}
